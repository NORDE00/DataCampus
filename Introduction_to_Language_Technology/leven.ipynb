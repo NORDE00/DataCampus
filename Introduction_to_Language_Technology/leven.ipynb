{
 "cells": [
  {
   "cell_type": "code",
   "execution_count": 32,
   "metadata": {},
   "outputs": [],
   "source": [
    "def inserter (list, n):\n",
    "    count = 0\n",
    "    for i in n:\n",
    "        list[count][0] = i\n",
    "        count += 1\n",
    "    return list\n",
    "\n",
    "a = 'cake'\n",
    "b = 'cat'"
   ]
  },
  {
   "cell_type": "code",
   "execution_count": 33,
   "metadata": {},
   "outputs": [
    {
     "name": "stdout",
     "output_type": "stream",
     "text": [
      "[['#', '#', 'c', 'a', 'k', 'e'], ['#', 0, 0, 0, 0, 0], ['c', 0, 0, 0, 0, 0], ['a', 0, 0, 0, 0, 0], ['t', 0, 0, 0, 0, 0]]\n"
     ]
    }
   ],
   "source": [
    "col = ['#','#']+(list(a)) \n",
    "index = ['#','#']+(list(b)) \n",
    "\n",
    "matrix = [[0] * (len(col)) for _ in range(len(index))]\n",
    "\n",
    "matrix[0] = col\n",
    "matrix = inserter(matrix, index)\n",
    "print(matrix)\n"
   ]
  },
  {
   "cell_type": "code",
   "execution_count": 34,
   "metadata": {},
   "outputs": [],
   "source": [
    "def starter (mat): #매트릭스 1열과 1행 채우기 ( 0 1 2 3..)\n",
    "    \n",
    "    counter = 0\n",
    "    for i in range(len(col)):\n",
    "        mat[1][i+1] = counter\n",
    "        counter += 1\n",
    "        if counter == len(col)-1:\n",
    "            break\n",
    "    counter = 0\n",
    "    for j in range(len(index)):\n",
    "        mat[j+1][1] = counter\n",
    "        counter += 1\n",
    "        if counter == len(index)-1:\n",
    "            break"
   ]
  },
  {
   "cell_type": "markdown",
   "metadata": {},
   "source": [
    "[['#', '#', 'c', 'a', 'k', 'e'], \n",
    "['#', 0, 1, 2, 3, 4], \n",
    "['c', 1, 2, 1, 2, 3], \n",
    "['a', 2, 1, 3, 1, 2], \n",
    "['t', 3, 2, 1, 3, 1]]"
   ]
  },
  {
   "cell_type": "code",
   "execution_count": 35,
   "metadata": {},
   "outputs": [],
   "source": [
    "def add (a, b, c, par):\n",
    "    return min(a,b,c) + par\n",
    "\n",
    "def fill_m (mat, x,y): #min\n",
    "    if mat[0][x] != mat[y][0]:\n",
    "        mat[y][x] = add(mat[y-1][x-1],mat[y-1][x],mat[y][x-1],1)\n",
    "    else:\n",
    "        mat[y][x] = mat[y-1][x-1]\n",
    "        "
   ]
  },
  {
   "cell_type": "markdown",
   "metadata": {},
   "source": [
    "위 코드 matrix 안에서..\n",
    "\n",
    "            [0][x-1], [0][x]  \n",
    "  \n",
    "[y-1][0],   [y-1][x-1] , [y-1][x]  \n",
    "[y][0],     [y][x-1], [y][x]  \n",
    "\n",
    "\n",
    "흐름을 어떻게 해야할 까 ?\n",
    "\n",
    "[\n",
    "\n",
    "[#, #, c, a, k, e], \n",
    "[#, 0, 1, 2, 3, 4], \n",
    "[c, 1, 0, 0, 0, 0], \n",
    "[a, 2, 0, 0, 0, 0], \n",
    "[t, 3, 0, 0, 0, 0]\n",
    "\n",
    "]\n",
    "\n",
    "\n",
    "y는 2 ~ len(index)-1 까지 \n",
    "for y in range(2, len(index))\n",
    "\n",
    "x는 2 ~ len(col)-1 \n",
    "for x in range(2, len(col))\n"
   ]
  },
  {
   "cell_type": "code",
   "execution_count": 36,
   "metadata": {},
   "outputs": [
    {
     "name": "stdout",
     "output_type": "stream",
     "text": [
      "[['#', '#', 'c', 'a', 'k', 'e'], ['#', 0, 1, 2, 3, 4], ['c', 1, 0, 0, 0, 0], ['a', 2, 0, 0, 0, 0], ['t', 3, 0, 0, 0, 0]]\n",
      "[['#', '#', 'c', 'a', 'k', 'e'], ['#', 0, 1, 2, 3, 4], ['c', 1, 0, 1, 2, 3], ['a', 2, 1, 0, 1, 2], ['t', 3, 2, 1, 1, 2]]\n"
     ]
    }
   ],
   "source": [
    "starter(matrix)\n",
    "print(matrix)\n",
    "\n",
    "for y in range(2, len(index)):\n",
    "    for x in range(2,len(col)):\n",
    "        fill_m(matrix,x,y)\n",
    "        \n",
    "print(matrix)"
   ]
  },
  {
   "cell_type": "markdown",
   "metadata": {},
   "source": [
    "[#, #, c, a, k, e], \n",
    "[#, 0, 1, 2, 3, 4], \n",
    "[c, 1, 0, 2, 4, 5], \n",
    "[a, 2, 2, 0, 2, 4], \n",
    "[t, 3, 4, 2, 2, 4]]"
   ]
  },
  {
   "cell_type": "code",
   "execution_count": 37,
   "metadata": {},
   "outputs": [
    {
     "name": "stdout",
     "output_type": "stream",
     "text": [
      " [#, #, c, a, k, e], \n",
      "[#, 0, 1, 2, 3, 4], \n",
      "[c, 1, 0, 2, 4, 5], \n",
      "[a, 2, 2, 0, 2, 4], \n",
      "[t, 3, 4, 2, 2, 4]]\n"
     ]
    },
    {
     "ename": "",
     "evalue": "",
     "output_type": "error",
     "traceback": [
      "\u001b[1;31mThe Kernel crashed while executing code in the the current cell or a previous cell. Please review the code in the cell(s) to identify a possible cause of the failure. Click <a href='https://aka.ms/vscodeJupyterKernelCrash'>here</a> for more info. View Jupyter <a href='command:jupyter.viewOutput'>log</a> for further details."
     ]
    }
   ],
   "source": [
    "text = ''' ['#', '#', 'c', 'a', 'k', 'e'], \n",
    "['#', 0, 1, 2, 3, 4], \n",
    "['c', 1, 0, 2, 4, 5], \n",
    "['a', 2, 2, 0, 2, 4], \n",
    "['t', 3, 4, 2, 2, 4]]'''\n",
    "\n",
    "print(text.replace(\"'\",''))"
   ]
  },
  {
   "cell_type": "code",
   "execution_count": null,
   "metadata": {},
   "outputs": [],
   "source": []
  }
 ],
 "metadata": {
  "kernelspec": {
   "display_name": "Python 3.9.13 64-bit (windows store)",
   "language": "python",
   "name": "python3"
  },
  "language_info": {
   "codemirror_mode": {
    "name": "ipython",
    "version": 3
   },
   "file_extension": ".py",
   "mimetype": "text/x-python",
   "name": "python",
   "nbconvert_exporter": "python",
   "pygments_lexer": "ipython3",
   "version": "3.9.13"
  },
  "orig_nbformat": 4,
  "vscode": {
   "interpreter": {
    "hash": "aad4586ff5f72c5c5fba6c3d8350e33a8c4d634001d449d5ea112ff8eb03f84d"
   }
  }
 },
 "nbformat": 4,
 "nbformat_minor": 2
}
